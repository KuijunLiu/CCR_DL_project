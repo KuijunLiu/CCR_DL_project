{
  "nbformat": 4,
  "nbformat_minor": 0,
  "metadata": {
    "colab": {
      "name": "Flatten Siamese Network",
      "provenance": [],
      "collapsed_sections": [],
      "machine_shape": "hm"
    },
    "kernelspec": {
      "name": "python3",
      "display_name": "Python 3"
    },
    "language_info": {
      "name": "python"
    },
    "accelerator": "GPU"
  },
  "cells": [
    {
      "cell_type": "code",
      "source": [
        "# uncomment it if use colab\n",
        "# from google.colab import drive\n",
        "# drive.mount('/content/drive')"
      ],
      "metadata": {
        "id": "QyJQoiedEjPA",
        "outputId": "96bf0145-edbb-4035-a787-8183faf3401a",
        "colab": {
          "base_uri": "https://localhost:8080/"
        }
      },
      "execution_count": 1,
      "outputs": [
        {
          "output_type": "stream",
          "name": "stdout",
          "text": [
            "Mounted at /content/drive\n"
          ]
        }
      ]
    },
    {
      "cell_type": "code",
      "source": [
        "!pip install -q -U tensorflow-addons"
      ],
      "metadata": {
        "id": "e6WVQ3HXW45l",
        "colab": {
          "base_uri": "https://localhost:8080/"
        },
        "outputId": "c81020cf-ef7b-4bf7-fec4-dd23b05b4dca"
      },
      "execution_count": 2,
      "outputs": [
        {
          "output_type": "stream",
          "name": "stdout",
          "text": [
            "\u001b[?25l\r\u001b[K     |▎                               | 10 kB 37.2 MB/s eta 0:00:01\r\u001b[K     |▋                               | 20 kB 43.6 MB/s eta 0:00:01\r\u001b[K     |▉                               | 30 kB 23.3 MB/s eta 0:00:01\r\u001b[K     |█▏                              | 40 kB 18.8 MB/s eta 0:00:01\r\u001b[K     |█▌                              | 51 kB 13.3 MB/s eta 0:00:01\r\u001b[K     |█▊                              | 61 kB 15.1 MB/s eta 0:00:01\r\u001b[K     |██                              | 71 kB 14.7 MB/s eta 0:00:01\r\u001b[K     |██▍                             | 81 kB 16.1 MB/s eta 0:00:01\r\u001b[K     |██▋                             | 92 kB 17.7 MB/s eta 0:00:01\r\u001b[K     |███                             | 102 kB 14.7 MB/s eta 0:00:01\r\u001b[K     |███▏                            | 112 kB 14.7 MB/s eta 0:00:01\r\u001b[K     |███▌                            | 122 kB 14.7 MB/s eta 0:00:01\r\u001b[K     |███▉                            | 133 kB 14.7 MB/s eta 0:00:01\r\u001b[K     |████                            | 143 kB 14.7 MB/s eta 0:00:01\r\u001b[K     |████▍                           | 153 kB 14.7 MB/s eta 0:00:01\r\u001b[K     |████▊                           | 163 kB 14.7 MB/s eta 0:00:01\r\u001b[K     |█████                           | 174 kB 14.7 MB/s eta 0:00:01\r\u001b[K     |█████▎                          | 184 kB 14.7 MB/s eta 0:00:01\r\u001b[K     |█████▌                          | 194 kB 14.7 MB/s eta 0:00:01\r\u001b[K     |█████▉                          | 204 kB 14.7 MB/s eta 0:00:01\r\u001b[K     |██████▏                         | 215 kB 14.7 MB/s eta 0:00:01\r\u001b[K     |██████▍                         | 225 kB 14.7 MB/s eta 0:00:01\r\u001b[K     |██████▊                         | 235 kB 14.7 MB/s eta 0:00:01\r\u001b[K     |███████                         | 245 kB 14.7 MB/s eta 0:00:01\r\u001b[K     |███████▎                        | 256 kB 14.7 MB/s eta 0:00:01\r\u001b[K     |███████▋                        | 266 kB 14.7 MB/s eta 0:00:01\r\u001b[K     |███████▉                        | 276 kB 14.7 MB/s eta 0:00:01\r\u001b[K     |████████▏                       | 286 kB 14.7 MB/s eta 0:00:01\r\u001b[K     |████████▌                       | 296 kB 14.7 MB/s eta 0:00:01\r\u001b[K     |████████▊                       | 307 kB 14.7 MB/s eta 0:00:01\r\u001b[K     |█████████                       | 317 kB 14.7 MB/s eta 0:00:01\r\u001b[K     |█████████▍                      | 327 kB 14.7 MB/s eta 0:00:01\r\u001b[K     |█████████▋                      | 337 kB 14.7 MB/s eta 0:00:01\r\u001b[K     |██████████                      | 348 kB 14.7 MB/s eta 0:00:01\r\u001b[K     |██████████▏                     | 358 kB 14.7 MB/s eta 0:00:01\r\u001b[K     |██████████▌                     | 368 kB 14.7 MB/s eta 0:00:01\r\u001b[K     |██████████▉                     | 378 kB 14.7 MB/s eta 0:00:01\r\u001b[K     |███████████                     | 389 kB 14.7 MB/s eta 0:00:01\r\u001b[K     |███████████▍                    | 399 kB 14.7 MB/s eta 0:00:01\r\u001b[K     |███████████▊                    | 409 kB 14.7 MB/s eta 0:00:01\r\u001b[K     |████████████                    | 419 kB 14.7 MB/s eta 0:00:01\r\u001b[K     |████████████▎                   | 430 kB 14.7 MB/s eta 0:00:01\r\u001b[K     |████████████▌                   | 440 kB 14.7 MB/s eta 0:00:01\r\u001b[K     |████████████▉                   | 450 kB 14.7 MB/s eta 0:00:01\r\u001b[K     |█████████████▏                  | 460 kB 14.7 MB/s eta 0:00:01\r\u001b[K     |█████████████▍                  | 471 kB 14.7 MB/s eta 0:00:01\r\u001b[K     |█████████████▊                  | 481 kB 14.7 MB/s eta 0:00:01\r\u001b[K     |██████████████                  | 491 kB 14.7 MB/s eta 0:00:01\r\u001b[K     |██████████████▎                 | 501 kB 14.7 MB/s eta 0:00:01\r\u001b[K     |██████████████▋                 | 512 kB 14.7 MB/s eta 0:00:01\r\u001b[K     |██████████████▉                 | 522 kB 14.7 MB/s eta 0:00:01\r\u001b[K     |███████████████▏                | 532 kB 14.7 MB/s eta 0:00:01\r\u001b[K     |███████████████▌                | 542 kB 14.7 MB/s eta 0:00:01\r\u001b[K     |███████████████▊                | 552 kB 14.7 MB/s eta 0:00:01\r\u001b[K     |████████████████                | 563 kB 14.7 MB/s eta 0:00:01\r\u001b[K     |████████████████▍               | 573 kB 14.7 MB/s eta 0:00:01\r\u001b[K     |████████████████▋               | 583 kB 14.7 MB/s eta 0:00:01\r\u001b[K     |█████████████████               | 593 kB 14.7 MB/s eta 0:00:01\r\u001b[K     |█████████████████▏              | 604 kB 14.7 MB/s eta 0:00:01\r\u001b[K     |█████████████████▌              | 614 kB 14.7 MB/s eta 0:00:01\r\u001b[K     |█████████████████▉              | 624 kB 14.7 MB/s eta 0:00:01\r\u001b[K     |██████████████████              | 634 kB 14.7 MB/s eta 0:00:01\r\u001b[K     |██████████████████▍             | 645 kB 14.7 MB/s eta 0:00:01\r\u001b[K     |██████████████████▊             | 655 kB 14.7 MB/s eta 0:00:01\r\u001b[K     |███████████████████             | 665 kB 14.7 MB/s eta 0:00:01\r\u001b[K     |███████████████████▎            | 675 kB 14.7 MB/s eta 0:00:01\r\u001b[K     |███████████████████▌            | 686 kB 14.7 MB/s eta 0:00:01\r\u001b[K     |███████████████████▉            | 696 kB 14.7 MB/s eta 0:00:01\r\u001b[K     |████████████████████▏           | 706 kB 14.7 MB/s eta 0:00:01\r\u001b[K     |████████████████████▍           | 716 kB 14.7 MB/s eta 0:00:01\r\u001b[K     |████████████████████▊           | 727 kB 14.7 MB/s eta 0:00:01\r\u001b[K     |█████████████████████           | 737 kB 14.7 MB/s eta 0:00:01\r\u001b[K     |█████████████████████▎          | 747 kB 14.7 MB/s eta 0:00:01\r\u001b[K     |█████████████████████▋          | 757 kB 14.7 MB/s eta 0:00:01\r\u001b[K     |█████████████████████▉          | 768 kB 14.7 MB/s eta 0:00:01\r\u001b[K     |██████████████████████▏         | 778 kB 14.7 MB/s eta 0:00:01\r\u001b[K     |██████████████████████▌         | 788 kB 14.7 MB/s eta 0:00:01\r\u001b[K     |██████████████████████▊         | 798 kB 14.7 MB/s eta 0:00:01\r\u001b[K     |███████████████████████         | 808 kB 14.7 MB/s eta 0:00:01\r\u001b[K     |███████████████████████▍        | 819 kB 14.7 MB/s eta 0:00:01\r\u001b[K     |███████████████████████▋        | 829 kB 14.7 MB/s eta 0:00:01\r\u001b[K     |████████████████████████        | 839 kB 14.7 MB/s eta 0:00:01\r\u001b[K     |████████████████████████▏       | 849 kB 14.7 MB/s eta 0:00:01\r\u001b[K     |████████████████████████▌       | 860 kB 14.7 MB/s eta 0:00:01\r\u001b[K     |████████████████████████▉       | 870 kB 14.7 MB/s eta 0:00:01\r\u001b[K     |█████████████████████████       | 880 kB 14.7 MB/s eta 0:00:01\r\u001b[K     |█████████████████████████▍      | 890 kB 14.7 MB/s eta 0:00:01\r\u001b[K     |█████████████████████████▊      | 901 kB 14.7 MB/s eta 0:00:01\r\u001b[K     |██████████████████████████      | 911 kB 14.7 MB/s eta 0:00:01\r\u001b[K     |██████████████████████████▎     | 921 kB 14.7 MB/s eta 0:00:01\r\u001b[K     |██████████████████████████▌     | 931 kB 14.7 MB/s eta 0:00:01\r\u001b[K     |██████████████████████████▉     | 942 kB 14.7 MB/s eta 0:00:01\r\u001b[K     |███████████████████████████▏    | 952 kB 14.7 MB/s eta 0:00:01\r\u001b[K     |███████████████████████████▍    | 962 kB 14.7 MB/s eta 0:00:01\r\u001b[K     |███████████████████████████▊    | 972 kB 14.7 MB/s eta 0:00:01\r\u001b[K     |████████████████████████████    | 983 kB 14.7 MB/s eta 0:00:01\r\u001b[K     |████████████████████████████▎   | 993 kB 14.7 MB/s eta 0:00:01\r\u001b[K     |████████████████████████████▋   | 1.0 MB 14.7 MB/s eta 0:00:01\r\u001b[K     |████████████████████████████▉   | 1.0 MB 14.7 MB/s eta 0:00:01\r\u001b[K     |█████████████████████████████▏  | 1.0 MB 14.7 MB/s eta 0:00:01\r\u001b[K     |█████████████████████████████▌  | 1.0 MB 14.7 MB/s eta 0:00:01\r\u001b[K     |█████████████████████████████▊  | 1.0 MB 14.7 MB/s eta 0:00:01\r\u001b[K     |██████████████████████████████  | 1.1 MB 14.7 MB/s eta 0:00:01\r\u001b[K     |██████████████████████████████▍ | 1.1 MB 14.7 MB/s eta 0:00:01\r\u001b[K     |██████████████████████████████▋ | 1.1 MB 14.7 MB/s eta 0:00:01\r\u001b[K     |███████████████████████████████ | 1.1 MB 14.7 MB/s eta 0:00:01\r\u001b[K     |███████████████████████████████▏| 1.1 MB 14.7 MB/s eta 0:00:01\r\u001b[K     |███████████████████████████████▌| 1.1 MB 14.7 MB/s eta 0:00:01\r\u001b[K     |███████████████████████████████▉| 1.1 MB 14.7 MB/s eta 0:00:01\r\u001b[K     |████████████████████████████████| 1.1 MB 14.7 MB/s \n",
            "\u001b[?25h"
          ]
        }
      ]
    },
    {
      "cell_type": "code",
      "metadata": {
        "id": "VNskEAYDkgD8"
      },
      "source": [
        "import numpy as np\n",
        "from keras.datasets import mnist\n",
        "import matplotlib.pyplot as plt\n",
        "from tensorflow.keras import layers, models\n",
        "import keras as ks\n",
        "import tensorflow as tf\n",
        "import pickle\n",
        "from tensorflow.keras.layers import Activation, Flatten, Dense, Reshape, Input, Dot, Lambda\n",
        "from tensorflow.keras.models import Model\n",
        "from tensorflow.keras import backend as K\n",
        "import keras\n",
        "import random\n",
        "import os\n",
        "import zipfile\n",
        "import tensorflow_addons as tfa\n",
        "from tensorflow.keras.preprocessing.image import load_img, img_to_array"
      ],
      "execution_count": 23,
      "outputs": []
    },
    {
      "cell_type": "markdown",
      "metadata": {
        "id": "QOs9ALvXvdVa"
      },
      "source": [
        "# **Loading the Dataset**"
      ]
    },
    {
      "cell_type": "code",
      "source": [
        "# uncomment it if on colab\n",
        "# data_path = os.path.join(\"drive\", \"MyDrive\", \"Data.zip\") \n",
        "# with zipfile.ZipFile(data_path, 'r') as zip_ref:\n",
        "#     zip_ref.extractall(\"\")"
      ],
      "metadata": {
        "id": "KjrNl6lLEsv-"
      },
      "execution_count": 4,
      "outputs": []
    },
    {
      "cell_type": "code",
      "source": [
        "train_path = os.path.join(\"Data\", \"train_data\")\n",
        "test_path = os.path.join(\"Data\", \"test_data\")"
      ],
      "metadata": {
        "id": "jdlrciyHFTGM"
      },
      "execution_count": 6,
      "outputs": []
    },
    {
      "cell_type": "code",
      "source": [
        "chars = os.listdir(train_path)\n",
        "chars2index = {chars[i]:i for i in range(len(chars))}\n",
        "index2chars = {v: k for k, v in chars2index.items()}\n",
        "index2chars[0]"
      ],
      "metadata": {
        "id": "pWfxOmTYGVsU",
        "outputId": "8e53479f-ac36-46bf-e454-f9d60d564277",
        "colab": {
          "base_uri": "https://localhost:8080/",
          "height": 35
        }
      },
      "execution_count": 7,
      "outputs": [
        {
          "output_type": "execute_result",
          "data": {
            "text/plain": [
              "'仟'"
            ],
            "application/vnd.google.colaboratory.intrinsic+json": {
              "type": "string"
            }
          },
          "metadata": {},
          "execution_count": 7
        }
      ]
    },
    {
      "cell_type": "code",
      "source": [
        "print(\"There are\",len(index2chars), \"characters/classes.\")"
      ],
      "metadata": {
        "colab": {
          "base_uri": "https://localhost:8080/"
        },
        "id": "4vqgQ4MSeTfU",
        "outputId": "cba914d0-9459-4589-c6a5-ba3ed9d0e834"
      },
      "execution_count": 58,
      "outputs": [
        {
          "output_type": "stream",
          "name": "stdout",
          "text": [
            "There are 200 characters/classes.\n"
          ]
        }
      ]
    },
    {
      "cell_type": "code",
      "source": [
        "def create_data_set(path, chars, img_size):\n",
        "\n",
        "    if 'train' in path:\n",
        "      print(\"Start collecting data for train set.\")\n",
        "    elif 'test' in path:\n",
        "      print(\"Start collecting data for test set.\")\n",
        "    df_x = []\n",
        "    df_y = []\n",
        "    for char in chars:\n",
        "      image_names = os.listdir(os.path.join(path, char))\n",
        "      for image_name in image_names:\n",
        "        image = load_img(os.path.join(path, char, image_name), target_size=img_size)\n",
        "        img_array = img_to_array(image) \n",
        "        df_x.append(img_array)\n",
        "        df_y.append(chars2index[char])\n",
        "    print('Data collection finished.')\n",
        "    return np.stack(df_x), np.array(df_y)"
      ],
      "metadata": {
        "id": "B5LZnhOybAH5"
      },
      "execution_count": 9,
      "outputs": []
    },
    {
      "cell_type": "code",
      "source": [
        "img_size = (16, 16, 3)"
      ],
      "metadata": {
        "id": "a_6q4HYGcB8d"
      },
      "execution_count": 10,
      "outputs": []
    },
    {
      "cell_type": "code",
      "source": [
        "X_train, y_train = create_data_set(train_path, chars, img_size)\n",
        "X_test, y_test = create_data_set(test_path, chars, img_size)"
      ],
      "metadata": {
        "colab": {
          "base_uri": "https://localhost:8080/"
        },
        "id": "K01QXIj-b_M6",
        "outputId": "e0e3db55-ae1b-4e81-fa34-1a4503012579"
      },
      "execution_count": 11,
      "outputs": [
        {
          "output_type": "stream",
          "name": "stdout",
          "text": [
            "Start collecting data for train set.\n",
            "Data collection finished.\n",
            "Start collecting data for test set.\n",
            "Data collection finished.\n"
          ]
        }
      ]
    },
    {
      "cell_type": "code",
      "source": [
        "print(X_train.shape, y_train.shape)\n",
        "print(X_test.shape, y_test.shape)"
      ],
      "metadata": {
        "colab": {
          "base_uri": "https://localhost:8080/"
        },
        "id": "bqv4mSz1cHAf",
        "outputId": "7f9db662-860d-433e-9357-ef8eb815820a"
      },
      "execution_count": 12,
      "outputs": [
        {
          "output_type": "stream",
          "name": "stdout",
          "text": [
            "(103548, 16, 16, 3) (103548,)\n",
            "(24791, 16, 16, 3) (24791,)\n"
          ]
        }
      ]
    },
    {
      "cell_type": "code",
      "source": [
        "# Normalizing and flattening\n",
        "X_train = X_train.astype('float32')\n",
        "X_train /= 255\n",
        "X_train = X_train.reshape((len(X_train), np.prod(X_train.shape[1:]))) # flatten\n",
        "X_test = X_test.astype('float32')\n",
        "X_test /= 255\n",
        "X_test = X_test.reshape((len(X_test), np.prod(X_test.shape[1:]))) # flatten"
      ],
      "metadata": {
        "id": "7sXxAViPdxoG"
      },
      "execution_count": 13,
      "outputs": []
    },
    {
      "cell_type": "code",
      "source": [
        "X_train.shape"
      ],
      "metadata": {
        "colab": {
          "base_uri": "https://localhost:8080/"
        },
        "id": "MpkIE-9adzwv",
        "outputId": "328d8b5e-819f-42d6-f789-cba97848a477"
      },
      "execution_count": 14,
      "outputs": [
        {
          "output_type": "execute_result",
          "data": {
            "text/plain": [
              "(103548, 768)"
            ]
          },
          "metadata": {},
          "execution_count": 14
        }
      ]
    },
    {
      "cell_type": "code",
      "source": [
        "y_train.shape"
      ],
      "metadata": {
        "colab": {
          "base_uri": "https://localhost:8080/"
        },
        "id": "BJ8YIdSOeddu",
        "outputId": "5ff6ffe0-3cc0-4244-ccd6-fe3003f86fa3"
      },
      "execution_count": 15,
      "outputs": [
        {
          "output_type": "execute_result",
          "data": {
            "text/plain": [
              "(103548,)"
            ]
          },
          "metadata": {},
          "execution_count": 15
        }
      ]
    },
    {
      "cell_type": "markdown",
      "metadata": {
        "id": "-ZsXdgc3vjTy"
      },
      "source": [
        "# **Making Pairs for One Shot Learning**"
      ]
    },
    {
      "cell_type": "code",
      "metadata": {
        "id": "TAbKQUlOM8nr"
      },
      "source": [
        "class Pairs:\n",
        "  def makePairs(self, x, y):\n",
        "    num_classes = 200\n",
        "    digit_indices = [np.where(y == i)[0] for i in range(num_classes)]\n",
        "\n",
        "    pairs = list()\n",
        "    labels = list()\n",
        "\n",
        "    for idx1 in range(len(x)):\n",
        "        x1 = x[idx1]\n",
        "        label1 = y[idx1]\n",
        "        idx2 = random.choice(digit_indices[label1])\n",
        "        x2 = x[idx2]\n",
        "        \n",
        "        labels += list([1])\n",
        "        pairs += [[x1, x2]]\n",
        "    \n",
        "        label2 = random.randint(0, num_classes-1)\n",
        "        while label2 == label1:\n",
        "            label2 = random.randint(0, num_classes-1)\n",
        "\n",
        "        idx2 = random.choice(digit_indices[label2])\n",
        "        x2 = x[idx2]\n",
        "        \n",
        "        labels += list([0])\n",
        "        pairs += [[x1, x2]]\n",
        "        \n",
        "    return np.array(pairs), np.array(labels)"
      ],
      "execution_count": 16,
      "outputs": []
    },
    {
      "cell_type": "code",
      "metadata": {
        "id": "iE10bm2e06N-"
      },
      "source": [
        "p = Pairs()"
      ],
      "execution_count": 17,
      "outputs": []
    },
    {
      "cell_type": "code",
      "metadata": {
        "id": "JVfxWqalQCMp"
      },
      "source": [
        "pairs_train, labels_train = p.makePairs(X_train, y_train)\n",
        "pairs_test, labels_test = p.makePairs(X_test, y_test)\n",
        "labels_train = labels_train.astype('float32')\n",
        "labels_test = labels_test.astype('float32')"
      ],
      "execution_count": 18,
      "outputs": []
    },
    {
      "cell_type": "markdown",
      "metadata": {
        "id": "PSP_nyLiMSVl"
      },
      "source": [
        "# **Siamese Network**"
      ]
    },
    {
      "cell_type": "code",
      "metadata": {
        "id": "tvu75RuYRTKj"
      },
      "source": [
        "def euclideanDistance(v):\n",
        "    x, y = v\n",
        "    sum_square = K.sum(K.square(x - y), axis=1, keepdims=True)\n",
        "    return K.sqrt(K.maximum(sum_square, K.epsilon()))\n",
        "\n",
        "def eucl_dist_output_shape(shapes):\n",
        "    shape1, shape2 = shapes\n",
        "    return (shape1[0], 1)\n",
        "\n",
        "def contrastive_loss(y_original, y_pred):\n",
        "    sqaure_pred = K.square(y_pred)\n",
        "    margin = 1\n",
        "    margin_square = K.square(K.maximum(0., margin - y_pred))\n",
        "    return K.mean(y_original * sqaure_pred + (1 - y_original) * margin_square)\n",
        "\n",
        "def compute_accuracy(y_original, y_pred):\n",
        "    pred = y_pred.ravel() < 0.5\n",
        "    return np.mean(pred == y_original)\n",
        "\n",
        "def accuracy(y_original, y_pred):\n",
        "    return K.mean(K.equal(y_original, K.cast(y_pred < 0.5, y_original.dtype)))"
      ],
      "execution_count": 27,
      "outputs": []
    },
    {
      "cell_type": "code",
      "metadata": {
        "id": "njW6iN9B2plv"
      },
      "source": [
        "input = Input(shape=(X_train.shape[1],))\n",
        "x = Flatten()(input)\n",
        "x = Dense(64, activation='relu')(x)\n",
        "x = Dense(128, activation='relu')(x)\n",
        "x = Dense(256, activation='relu')(x)\n",
        "x = Lambda(lambda  x: K.l2_normalize(x,axis=1))(x)\n",
        "x = Lambda(lambda  x: K.l2_normalize(x,axis=1))(x)\n",
        "dense = Model(input, x)\n",
        "\n",
        "input1 = Input(shape=(X_train.shape[1],))\n",
        "input2 = Input(shape=(X_train.shape[1],))\n",
        "dense1 = dense(input1)\n",
        "dense2 = dense(input2)\n",
        "\n",
        "distance = Lambda(euclideanDistance, output_shape=eucl_dist_output_shape)([dense1, dense2])\n",
        "model = Model([input1, input2], distance)"
      ],
      "execution_count": 32,
      "outputs": []
    },
    {
      "cell_type": "markdown",
      "metadata": {
        "id": "UbHCPncfNEdA"
      },
      "source": [
        "# **Contrastive loss**"
      ]
    },
    {
      "cell_type": "code",
      "metadata": {
        "colab": {
          "base_uri": "https://localhost:8080/"
        },
        "id": "95k-QnamSYf7",
        "outputId": "a7c5ee95-64e0-4e2b-b8f8-41db67cda7c6"
      },
      "source": [
        "model.compile(loss = contrastive_loss, optimizer=\"adam\", metrics=[accuracy])\n",
        "model.summary()"
      ],
      "execution_count": 33,
      "outputs": [
        {
          "output_type": "stream",
          "name": "stdout",
          "text": [
            "Model: \"model_5\"\n",
            "__________________________________________________________________________________________________\n",
            " Layer (type)                   Output Shape         Param #     Connected to                     \n",
            "==================================================================================================\n",
            " input_9 (InputLayer)           [(None, 768)]        0           []                               \n",
            "                                                                                                  \n",
            " input_10 (InputLayer)          [(None, 768)]        0           []                               \n",
            "                                                                                                  \n",
            " model_4 (Functional)           (None, 256)          90560       ['input_9[0][0]',                \n",
            "                                                                  'input_10[0][0]']               \n",
            "                                                                                                  \n",
            " lambda_10 (Lambda)             (None, 1)            0           ['model_4[0][0]',                \n",
            "                                                                  'model_4[1][0]']                \n",
            "                                                                                                  \n",
            "==================================================================================================\n",
            "Total params: 90,560\n",
            "Trainable params: 90,560\n",
            "Non-trainable params: 0\n",
            "__________________________________________________________________________________________________\n"
          ]
        }
      ]
    },
    {
      "cell_type": "code",
      "metadata": {
        "colab": {
          "base_uri": "https://localhost:8080/"
        },
        "id": "66vLX5PkTOjd",
        "outputId": "27747ac4-b831-4243-f411-baa4de02e564"
      },
      "source": [
        "history = model.fit([pairs_train[:,0], pairs_train[:,1]], labels_train[:], batch_size=128, epochs=30, validation_data =([pairs_test[:, 0], pairs_test[:, 1]], labels_test))"
      ],
      "execution_count": 34,
      "outputs": [
        {
          "output_type": "stream",
          "name": "stdout",
          "text": [
            "Epoch 1/30\n",
            "1618/1618 [==============================] - 8s 5ms/step - loss: 0.2012 - accuracy: 0.6891 - val_loss: 0.1998 - val_accuracy: 0.6911\n",
            "Epoch 2/30\n",
            "1618/1618 [==============================] - 7s 4ms/step - loss: 0.1860 - accuracy: 0.7227 - val_loss: 0.1976 - val_accuracy: 0.6991\n",
            "Epoch 3/30\n",
            "1618/1618 [==============================] - 7s 4ms/step - loss: 0.1803 - accuracy: 0.7341 - val_loss: 0.1863 - val_accuracy: 0.7209\n",
            "Epoch 4/30\n",
            "1618/1618 [==============================] - 7s 4ms/step - loss: 0.1769 - accuracy: 0.7415 - val_loss: 0.1858 - val_accuracy: 0.7197\n",
            "Epoch 5/30\n",
            "1618/1618 [==============================] - 7s 4ms/step - loss: 0.1737 - accuracy: 0.7485 - val_loss: 0.1813 - val_accuracy: 0.7294\n",
            "Epoch 6/30\n",
            "1618/1618 [==============================] - 7s 4ms/step - loss: 0.1711 - accuracy: 0.7531 - val_loss: 0.1805 - val_accuracy: 0.7287\n",
            "Epoch 7/30\n",
            "1618/1618 [==============================] - 7s 4ms/step - loss: 0.1697 - accuracy: 0.7558 - val_loss: 0.1776 - val_accuracy: 0.7347\n",
            "Epoch 8/30\n",
            "1618/1618 [==============================] - 7s 4ms/step - loss: 0.1675 - accuracy: 0.7600 - val_loss: 0.1810 - val_accuracy: 0.7287\n",
            "Epoch 9/30\n",
            "1618/1618 [==============================] - 7s 4ms/step - loss: 0.1659 - accuracy: 0.7631 - val_loss: 0.1778 - val_accuracy: 0.7348\n",
            "Epoch 10/30\n",
            "1618/1618 [==============================] - 7s 4ms/step - loss: 0.1650 - accuracy: 0.7647 - val_loss: 0.1765 - val_accuracy: 0.7371\n",
            "Epoch 11/30\n",
            "1618/1618 [==============================] - 7s 4ms/step - loss: 0.1642 - accuracy: 0.7670 - val_loss: 0.1756 - val_accuracy: 0.7394\n",
            "Epoch 12/30\n",
            "1618/1618 [==============================] - 7s 4ms/step - loss: 0.1635 - accuracy: 0.7681 - val_loss: 0.1768 - val_accuracy: 0.7362\n",
            "Epoch 13/30\n",
            "1618/1618 [==============================] - 7s 4ms/step - loss: 0.1623 - accuracy: 0.7705 - val_loss: 0.1735 - val_accuracy: 0.7434\n",
            "Epoch 14/30\n",
            "1618/1618 [==============================] - 7s 4ms/step - loss: 0.1618 - accuracy: 0.7718 - val_loss: 0.1711 - val_accuracy: 0.7462\n",
            "Epoch 15/30\n",
            "1618/1618 [==============================] - 7s 4ms/step - loss: 0.1613 - accuracy: 0.7733 - val_loss: 0.1742 - val_accuracy: 0.7421\n",
            "Epoch 16/30\n",
            "1618/1618 [==============================] - 7s 4ms/step - loss: 0.1604 - accuracy: 0.7756 - val_loss: 0.1698 - val_accuracy: 0.7505\n",
            "Epoch 17/30\n",
            "1618/1618 [==============================] - 7s 4ms/step - loss: 0.1599 - accuracy: 0.7760 - val_loss: 0.1711 - val_accuracy: 0.7466\n",
            "Epoch 18/30\n",
            "1618/1618 [==============================] - 7s 4ms/step - loss: 0.1592 - accuracy: 0.7767 - val_loss: 0.1726 - val_accuracy: 0.7431\n",
            "Epoch 19/30\n",
            "1618/1618 [==============================] - 8s 5ms/step - loss: 0.1591 - accuracy: 0.7771 - val_loss: 0.1721 - val_accuracy: 0.7457\n",
            "Epoch 20/30\n",
            "1618/1618 [==============================] - 7s 4ms/step - loss: 0.1585 - accuracy: 0.7788 - val_loss: 0.1731 - val_accuracy: 0.7441\n",
            "Epoch 21/30\n",
            "1618/1618 [==============================] - 7s 4ms/step - loss: 0.1581 - accuracy: 0.7796 - val_loss: 0.1707 - val_accuracy: 0.7485\n",
            "Epoch 22/30\n",
            "1618/1618 [==============================] - 7s 4ms/step - loss: 0.1578 - accuracy: 0.7796 - val_loss: 0.1710 - val_accuracy: 0.7465\n",
            "Epoch 23/30\n",
            "1618/1618 [==============================] - 7s 4ms/step - loss: 0.1570 - accuracy: 0.7809 - val_loss: 0.1698 - val_accuracy: 0.7496\n",
            "Epoch 24/30\n",
            "1618/1618 [==============================] - 7s 4ms/step - loss: 0.1569 - accuracy: 0.7818 - val_loss: 0.1702 - val_accuracy: 0.7473\n",
            "Epoch 25/30\n",
            "1618/1618 [==============================] - 7s 4ms/step - loss: 0.1565 - accuracy: 0.7817 - val_loss: 0.1685 - val_accuracy: 0.7484\n",
            "Epoch 26/30\n",
            "1618/1618 [==============================] - 7s 4ms/step - loss: 0.1558 - accuracy: 0.7829 - val_loss: 0.1724 - val_accuracy: 0.7443\n",
            "Epoch 27/30\n",
            "1618/1618 [==============================] - 7s 5ms/step - loss: 0.1561 - accuracy: 0.7826 - val_loss: 0.1681 - val_accuracy: 0.7540\n",
            "Epoch 28/30\n",
            "1618/1618 [==============================] - 7s 4ms/step - loss: 0.1554 - accuracy: 0.7839 - val_loss: 0.1721 - val_accuracy: 0.7453\n",
            "Epoch 29/30\n",
            "1618/1618 [==============================] - 7s 4ms/step - loss: 0.1552 - accuracy: 0.7846 - val_loss: 0.1654 - val_accuracy: 0.7583\n",
            "Epoch 30/30\n",
            "1618/1618 [==============================] - 7s 4ms/step - loss: 0.1554 - accuracy: 0.7845 - val_loss: 0.1700 - val_accuracy: 0.7476\n"
          ]
        }
      ]
    },
    {
      "cell_type": "code",
      "metadata": {
        "id": "7XEJZNaDTORH"
      },
      "source": [
        "y_pred_te = model.predict([pairs_test[:, 0], pairs_test[:, 1]])\n",
        "te_acc = compute_accuracy(labels_test, y_pred_te)"
      ],
      "execution_count": 35,
      "outputs": []
    },
    {
      "cell_type": "code",
      "metadata": {
        "colab": {
          "base_uri": "https://localhost:8080/"
        },
        "id": "sHkwfafchjCO",
        "outputId": "434cfb15-a7ea-4862-f137-6ca5c4d12ade"
      },
      "source": [
        "print(\"Accuracy on test set:\", te_acc*100, \"%.\")"
      ],
      "execution_count": 38,
      "outputs": [
        {
          "output_type": "stream",
          "name": "stdout",
          "text": [
            "Accuracy on test set: 74.76705255939655 %.\n"
          ]
        }
      ]
    },
    {
      "cell_type": "code",
      "metadata": {
        "colab": {
          "base_uri": "https://localhost:8080/",
          "height": 295
        },
        "id": "GFNgacH8G9FB",
        "outputId": "e7f25c27-5846-48be-bb1a-9a6910be514a"
      },
      "source": [
        "history_dict = history.history\n",
        "loss_values = history_dict['loss']\n",
        "val_loss_values = history_dict['val_loss']\n",
        "epochs = range(1, (len(history.history['val_accuracy']) + 1))\n",
        "plt.plot(epochs, loss_values, 'y', label='Training loss')\n",
        "plt.plot(epochs, val_loss_values, 'g', label='Test loss')\n",
        "plt.title('Training and Test loss')\n",
        "plt.xlabel('Epochs')\n",
        "plt.ylabel('Loss')\n",
        "plt.legend()\n",
        "plt.show()"
      ],
      "execution_count": 39,
      "outputs": [
        {
          "output_type": "display_data",
          "data": {
            "text/plain": [
              "<Figure size 432x288 with 1 Axes>"
            ],
            "image/png": "[encoded data removed]"
          },
          "metadata": {
            "needs_background": "light"
          }
        }
      ]
    },
    {
      "cell_type": "markdown",
      "metadata": {
        "id": "zFhR0MfbNOTr"
      },
      "source": [
        "# **Triplet Loss**"
      ]
    },
    {
      "cell_type": "code",
      "source": [
        "input = Input(shape=(X_train.shape[1],))\n",
        "x = Flatten()(input)\n",
        "x = Dense(64, activation='relu')(x)\n",
        "x = Dense(128, activation='relu')(x)\n",
        "x = Dense(256, activation='relu')(x)\n",
        "x = Lambda(lambda  x: K.l2_normalize(x,axis=1))(x)\n",
        "x = Lambda(lambda  x: K.l2_normalize(x,axis=1))(x)\n",
        "dense = Model(input, x)\n",
        "\n",
        "input1 = Input(shape=(X_train.shape[1],))\n",
        "input2 = Input(shape=(X_train.shape[1],))\n",
        "dense1 = dense(input1)\n",
        "dense2 = dense(input2)\n",
        "\n",
        "distance = Lambda(euclideanDistance, output_shape=eucl_dist_output_shape)([dense1, dense2])\n",
        "model = Model([input1, input2], distance)"
      ],
      "metadata": {
        "id": "LR8Jloh5K3x-"
      },
      "execution_count": 46,
      "outputs": []
    },
    {
      "cell_type": "code",
      "metadata": {
        "colab": {
          "base_uri": "https://localhost:8080/"
        },
        "id": "yiECQd7ENN7W",
        "outputId": "8d292756-5cbf-4e3b-ba54-188b9b3c2c71"
      },
      "source": [
        "model.compile(loss = tfa.losses.TripletSemiHardLoss(), optimizer=\"adam\", metrics=[accuracy])\n",
        "model.summary()"
      ],
      "execution_count": 47,
      "outputs": [
        {
          "output_type": "stream",
          "name": "stdout",
          "text": [
            "Model: \"model_8\"\n",
            "__________________________________________________________________________________________________\n",
            " Layer (type)                   Output Shape         Param #     Connected to                     \n",
            "==================================================================================================\n",
            " input_12 (InputLayer)          [(None, 768)]        0           []                               \n",
            "                                                                                                  \n",
            " input_13 (InputLayer)          [(None, 768)]        0           []                               \n",
            "                                                                                                  \n",
            " model_7 (Functional)           (None, 256)          90560       ['input_12[0][0]',               \n",
            "                                                                  'input_13[0][0]']               \n",
            "                                                                                                  \n",
            " lambda_13 (Lambda)             (None, 1)            0           ['model_7[0][0]',                \n",
            "                                                                  'model_7[1][0]']                \n",
            "                                                                                                  \n",
            "==================================================================================================\n",
            "Total params: 90,560\n",
            "Trainable params: 90,560\n",
            "Non-trainable params: 0\n",
            "__________________________________________________________________________________________________\n"
          ]
        }
      ]
    },
    {
      "cell_type": "code",
      "metadata": {
        "colab": {
          "base_uri": "https://localhost:8080/"
        },
        "id": "sLgWoExqNNwG",
        "outputId": "d7f280e4-017e-43f5-87d0-df4e7c591f8c"
      },
      "source": [
        "history = model.fit([pairs_train[:,0], pairs_train[:,1]], labels_train[:], batch_size=128, epochs=30, validation_data =([pairs_test[:, 0], pairs_test[:, 1]], labels_test))"
      ],
      "execution_count": 48,
      "outputs": [
        {
          "output_type": "stream",
          "name": "stdout",
          "text": [
            "Epoch 1/30\n",
            "1618/1618 [==============================] - 11s 7ms/step - loss: 0.9926 - accuracy: 0.5221 - val_loss: 0.9978 - val_accuracy: 0.5002\n",
            "Epoch 2/30\n",
            "1618/1618 [==============================] - 10s 6ms/step - loss: 0.9925 - accuracy: 0.5222 - val_loss: 0.9774 - val_accuracy: 0.5986\n",
            "Epoch 3/30\n",
            "1618/1618 [==============================] - 10s 6ms/step - loss: 0.9809 - accuracy: 0.5746 - val_loss: 0.9807 - val_accuracy: 0.5905\n",
            "Epoch 4/30\n",
            "1618/1618 [==============================] - 10s 6ms/step - loss: 0.9791 - accuracy: 0.5822 - val_loss: 0.9778 - val_accuracy: 0.5951\n",
            "Epoch 5/30\n",
            "1618/1618 [==============================] - 10s 6ms/step - loss: 0.9802 - accuracy: 0.5555 - val_loss: 0.9802 - val_accuracy: 0.6048\n",
            "Epoch 6/30\n",
            "1618/1618 [==============================] - 10s 6ms/step - loss: 0.9725 - accuracy: 0.5421 - val_loss: 0.9866 - val_accuracy: 0.5406\n",
            "Epoch 7/30\n",
            "1618/1618 [==============================] - 10s 6ms/step - loss: 0.9773 - accuracy: 0.5628 - val_loss: 0.9465 - val_accuracy: 0.5601\n",
            "Epoch 8/30\n",
            "1618/1618 [==============================] - 10s 6ms/step - loss: 0.9383 - accuracy: 0.5289 - val_loss: 0.9180 - val_accuracy: 0.5377\n",
            "Epoch 9/30\n",
            "1618/1618 [==============================] - 10s 6ms/step - loss: 0.9567 - accuracy: 0.5229 - val_loss: 0.9958 - val_accuracy: 0.5273\n",
            "Epoch 10/30\n",
            "1618/1618 [==============================] - 10s 6ms/step - loss: 0.9760 - accuracy: 0.5364 - val_loss: 0.9725 - val_accuracy: 0.6060\n",
            "Epoch 11/30\n",
            "1618/1618 [==============================] - 10s 6ms/step - loss: 0.9660 - accuracy: 0.5629 - val_loss: 0.9503 - val_accuracy: 0.5567\n",
            "Epoch 12/30\n",
            "1618/1618 [==============================] - 10s 6ms/step - loss: 0.9706 - accuracy: 0.5529 - val_loss: 0.9563 - val_accuracy: 0.5944\n",
            "Epoch 13/30\n",
            "1618/1618 [==============================] - 10s 6ms/step - loss: 0.9738 - accuracy: 0.5458 - val_loss: 0.9602 - val_accuracy: 0.5468\n",
            "Epoch 14/30\n",
            "1618/1618 [==============================] - 10s 6ms/step - loss: 0.9971 - accuracy: 0.5043 - val_loss: 0.9996 - val_accuracy: 0.5002\n",
            "Epoch 15/30\n",
            "1618/1618 [==============================] - 10s 6ms/step - loss: 0.9973 - accuracy: 0.5020 - val_loss: 0.9947 - val_accuracy: 0.5089\n",
            "Epoch 16/30\n",
            "1618/1618 [==============================] - 10s 6ms/step - loss: 0.4691 - accuracy: 0.5138 - val_loss: 0.3319 - val_accuracy: 0.5159\n",
            "Epoch 17/30\n",
            "1618/1618 [==============================] - 10s 6ms/step - loss: 0.1700 - accuracy: 0.5082 - val_loss: 0.3319 - val_accuracy: 0.5159\n",
            "Epoch 18/30\n",
            "1618/1618 [==============================] - 10s 6ms/step - loss: 0.1731 - accuracy: 0.5082 - val_loss: 0.3319 - val_accuracy: 0.5159\n",
            "Epoch 19/30\n",
            "1618/1618 [==============================] - 10s 6ms/step - loss: 0.1726 - accuracy: 0.5082 - val_loss: 0.3319 - val_accuracy: 0.5159\n",
            "Epoch 20/30\n",
            "1618/1618 [==============================] - 10s 6ms/step - loss: 0.1686 - accuracy: 0.5082 - val_loss: 0.3319 - val_accuracy: 0.5159\n",
            "Epoch 21/30\n",
            "1618/1618 [==============================] - 10s 6ms/step - loss: 0.1709 - accuracy: 0.5082 - val_loss: 0.3319 - val_accuracy: 0.5159\n",
            "Epoch 22/30\n",
            "1618/1618 [==============================] - 10s 6ms/step - loss: 0.1782 - accuracy: 0.5082 - val_loss: 0.3319 - val_accuracy: 0.5159\n",
            "Epoch 23/30\n",
            "1618/1618 [==============================] - 10s 6ms/step - loss: 0.1737 - accuracy: 0.5082 - val_loss: 0.3319 - val_accuracy: 0.5159\n",
            "Epoch 24/30\n",
            "1618/1618 [==============================] - 10s 6ms/step - loss: 0.1748 - accuracy: 0.5082 - val_loss: 0.3319 - val_accuracy: 0.5159\n",
            "Epoch 25/30\n",
            "1618/1618 [==============================] - 10s 6ms/step - loss: 0.1747 - accuracy: 0.5082 - val_loss: 0.3319 - val_accuracy: 0.5159\n",
            "Epoch 26/30\n",
            "1618/1618 [==============================] - 10s 6ms/step - loss: 0.1754 - accuracy: 0.5082 - val_loss: 0.3319 - val_accuracy: 0.5159\n",
            "Epoch 27/30\n",
            "1618/1618 [==============================] - 10s 6ms/step - loss: 0.1716 - accuracy: 0.5082 - val_loss: 0.3319 - val_accuracy: 0.5159\n",
            "Epoch 28/30\n",
            "1618/1618 [==============================] - 10s 6ms/step - loss: 0.1670 - accuracy: 0.5082 - val_loss: 0.3319 - val_accuracy: 0.5159\n",
            "Epoch 29/30\n",
            "1618/1618 [==============================] - 10s 6ms/step - loss: 0.1827 - accuracy: 0.5082 - val_loss: 0.3319 - val_accuracy: 0.5159\n",
            "Epoch 30/30\n",
            "1618/1618 [==============================] - 10s 6ms/step - loss: 0.1731 - accuracy: 0.5082 - val_loss: 0.3318 - val_accuracy: 0.5159\n"
          ]
        }
      ]
    },
    {
      "cell_type": "code",
      "metadata": {
        "id": "KKgn4bjiONoa"
      },
      "source": [
        "y_pred_te = model.predict([pairs_test[:, 0], pairs_test[:, 1]])\n",
        "te_acc = compute_accuracy(labels_test, y_pred_te)"
      ],
      "execution_count": 49,
      "outputs": []
    },
    {
      "cell_type": "code",
      "metadata": {
        "colab": {
          "base_uri": "https://localhost:8080/"
        },
        "id": "1iO9omw9ONgs",
        "outputId": "58039c7b-3e18-48b8-8b25-7d7464ced236"
      },
      "source": [
        "print(\"Accuracy on test set:\", te_acc*100, \"%.\")"
      ],
      "execution_count": 50,
      "outputs": [
        {
          "output_type": "stream",
          "name": "stdout",
          "text": [
            "Accuracy on test set: 51.59130329555081 %.\n"
          ]
        }
      ]
    },
    {
      "cell_type": "code",
      "metadata": {
        "colab": {
          "base_uri": "https://localhost:8080/",
          "height": 295
        },
        "id": "WwVNISn5PYpS",
        "outputId": "22222ee8-ece1-418f-a3a4-f93945827345"
      },
      "source": [
        "history_dict = history.history\n",
        "loss_values = history_dict['loss']\n",
        "val_loss_values = history_dict['val_loss']\n",
        "epochs = range(1, (len(history.history['val_accuracy']) + 1))\n",
        "plt.plot(epochs, loss_values, 'y', label='Training loss')\n",
        "plt.plot(epochs, val_loss_values, 'g', label='Test loss')\n",
        "plt.title('Training and Test loss')\n",
        "plt.xlabel('Epochs')\n",
        "plt.ylabel('Loss')\n",
        "plt.legend()\n",
        "plt.show()"
      ],
      "execution_count": 51,
      "outputs": [
        {
          "output_type": "display_data",
          "data": {
            "text/plain": [
              "<Figure size 432x288 with 1 Axes>"
            ],
            "image/png": "[encoded data removed]"
          },
          "metadata": {
            "needs_background": "light"
          }
        }
      ]
    },
    {
      "cell_type": "markdown",
      "metadata": {
        "id": "llCeVaXCVpcW"
      },
      "source": [
        "# **Regularized Cross Entropy**"
      ]
    },
    {
      "cell_type": "code",
      "source": [
        "input = Input(shape=(X_train.shape[1],))\n",
        "x = Flatten()(input)\n",
        "x = Dense(64, activation='relu')(x)\n",
        "x = Dense(128, activation='relu')(x)\n",
        "x = Dense(256, activation='relu')(x)\n",
        "x = Lambda(lambda  x: K.l2_normalize(x,axis=1))(x)\n",
        "x = Lambda(lambda  x: K.l2_normalize(x,axis=1))(x)\n",
        "dense = Model(input, x)\n",
        "\n",
        "input1 = Input(shape=(X_train.shape[1],))\n",
        "input2 = Input(shape=(X_train.shape[1],))\n",
        "dense1 = dense(input1)\n",
        "dense2 = dense(input2)\n",
        "\n",
        "distance = Lambda(euclideanDistance, output_shape=eucl_dist_output_shape)([dense1, dense2])\n",
        "model = Model([input1, input2], distance)"
      ],
      "metadata": {
        "id": "vQer8dMCMye0"
      },
      "execution_count": 52,
      "outputs": []
    },
    {
      "cell_type": "code",
      "metadata": {
        "colab": {
          "base_uri": "https://localhost:8080/"
        },
        "id": "WEHQUgcAVn6w",
        "outputId": "1f211d5c-0adc-4a6e-81c6-6f05bca5fd0c"
      },
      "source": [
        "model.compile(loss = \"categorical_crossentropy\", optimizer=\"adam\", metrics=[accuracy])\n",
        "model.summary()"
      ],
      "execution_count": 53,
      "outputs": [
        {
          "output_type": "stream",
          "name": "stdout",
          "text": [
            "Model: \"model_10\"\n",
            "__________________________________________________________________________________________________\n",
            " Layer (type)                   Output Shape         Param #     Connected to                     \n",
            "==================================================================================================\n",
            " input_15 (InputLayer)          [(None, 768)]        0           []                               \n",
            "                                                                                                  \n",
            " input_16 (InputLayer)          [(None, 768)]        0           []                               \n",
            "                                                                                                  \n",
            " model_9 (Functional)           (None, 256)          90560       ['input_15[0][0]',               \n",
            "                                                                  'input_16[0][0]']               \n",
            "                                                                                                  \n",
            " lambda_16 (Lambda)             (None, 1)            0           ['model_9[0][0]',                \n",
            "                                                                  'model_9[1][0]']                \n",
            "                                                                                                  \n",
            "==================================================================================================\n",
            "Total params: 90,560\n",
            "Trainable params: 90,560\n",
            "Non-trainable params: 0\n",
            "__________________________________________________________________________________________________\n"
          ]
        }
      ]
    },
    {
      "cell_type": "code",
      "metadata": {
        "colab": {
          "base_uri": "https://localhost:8080/"
        },
        "id": "rxIpVv9ymMee",
        "outputId": "5660f7df-f706-4ccc-bbfd-d6256199c39f"
      },
      "source": [
        "history = model.fit([pairs_train[:,0], pairs_train[:,1]], labels_train[:], batch_size=128, epochs=30, validation_data =([pairs_test[:, 0], pairs_test[:, 1]], labels_test))"
      ],
      "execution_count": 54,
      "outputs": [
        {
          "output_type": "stream",
          "name": "stdout",
          "text": [
            "Epoch 1/30\n",
            "1618/1618 [==============================] - 8s 4ms/step - loss: 5.9605e-08 - accuracy: 0.5100 - val_loss: 5.9605e-08 - val_accuracy: 0.5484\n",
            "Epoch 2/30\n",
            "1618/1618 [==============================] - 7s 4ms/step - loss: 5.9605e-08 - accuracy: 0.5100 - val_loss: 5.9605e-08 - val_accuracy: 0.5484\n",
            "Epoch 3/30\n",
            "1618/1618 [==============================] - 7s 4ms/step - loss: 5.9605e-08 - accuracy: 0.5100 - val_loss: 5.9605e-08 - val_accuracy: 0.5484\n",
            "Epoch 4/30\n",
            "1618/1618 [==============================] - 7s 4ms/step - loss: 5.9605e-08 - accuracy: 0.5100 - val_loss: 5.9605e-08 - val_accuracy: 0.5484\n",
            "Epoch 5/30\n",
            "1618/1618 [==============================] - 7s 4ms/step - loss: 5.9605e-08 - accuracy: 0.5100 - val_loss: 5.9605e-08 - val_accuracy: 0.5484\n",
            "Epoch 6/30\n",
            "1618/1618 [==============================] - 7s 4ms/step - loss: 5.9605e-08 - accuracy: 0.5100 - val_loss: 5.9605e-08 - val_accuracy: 0.5484\n",
            "Epoch 7/30\n",
            "1618/1618 [==============================] - 7s 4ms/step - loss: 5.9605e-08 - accuracy: 0.5100 - val_loss: 5.9605e-08 - val_accuracy: 0.5484\n",
            "Epoch 8/30\n",
            "1618/1618 [==============================] - 7s 4ms/step - loss: 5.9605e-08 - accuracy: 0.5100 - val_loss: 5.9605e-08 - val_accuracy: 0.5484\n",
            "Epoch 9/30\n",
            "1618/1618 [==============================] - 7s 4ms/step - loss: 5.9605e-08 - accuracy: 0.5100 - val_loss: 5.9605e-08 - val_accuracy: 0.5484\n",
            "Epoch 10/30\n",
            "1618/1618 [==============================] - 7s 4ms/step - loss: 5.9605e-08 - accuracy: 0.5100 - val_loss: 5.9605e-08 - val_accuracy: 0.5484\n",
            "Epoch 11/30\n",
            "1618/1618 [==============================] - 7s 4ms/step - loss: 5.9605e-08 - accuracy: 0.5100 - val_loss: 5.9605e-08 - val_accuracy: 0.5484\n",
            "Epoch 12/30\n",
            "1618/1618 [==============================] - 7s 4ms/step - loss: 5.9605e-08 - accuracy: 0.5100 - val_loss: 5.9605e-08 - val_accuracy: 0.5484\n",
            "Epoch 13/30\n",
            "1618/1618 [==============================] - 7s 4ms/step - loss: 5.9605e-08 - accuracy: 0.5100 - val_loss: 5.9605e-08 - val_accuracy: 0.5484\n",
            "Epoch 14/30\n",
            "1618/1618 [==============================] - 7s 4ms/step - loss: 5.9605e-08 - accuracy: 0.5100 - val_loss: 5.9605e-08 - val_accuracy: 0.5484\n",
            "Epoch 15/30\n",
            "1618/1618 [==============================] - 7s 4ms/step - loss: 5.9605e-08 - accuracy: 0.5100 - val_loss: 5.9605e-08 - val_accuracy: 0.5484\n",
            "Epoch 16/30\n",
            "1618/1618 [==============================] - 7s 4ms/step - loss: 5.9605e-08 - accuracy: 0.5100 - val_loss: 5.9605e-08 - val_accuracy: 0.5484\n",
            "Epoch 17/30\n",
            "1618/1618 [==============================] - 7s 4ms/step - loss: 5.9605e-08 - accuracy: 0.5100 - val_loss: 5.9605e-08 - val_accuracy: 0.5484\n",
            "Epoch 18/30\n",
            "1618/1618 [==============================] - 7s 4ms/step - loss: 5.9605e-08 - accuracy: 0.5100 - val_loss: 5.9605e-08 - val_accuracy: 0.5484\n",
            "Epoch 19/30\n",
            "1618/1618 [==============================] - 7s 4ms/step - loss: 5.9605e-08 - accuracy: 0.5100 - val_loss: 5.9605e-08 - val_accuracy: 0.5484\n",
            "Epoch 20/30\n",
            "1618/1618 [==============================] - 7s 4ms/step - loss: 5.9605e-08 - accuracy: 0.5100 - val_loss: 5.9605e-08 - val_accuracy: 0.5484\n",
            "Epoch 21/30\n",
            "1618/1618 [==============================] - 7s 4ms/step - loss: 5.9605e-08 - accuracy: 0.5100 - val_loss: 5.9605e-08 - val_accuracy: 0.5484\n",
            "Epoch 22/30\n",
            "1618/1618 [==============================] - 7s 4ms/step - loss: 5.9605e-08 - accuracy: 0.5100 - val_loss: 5.9605e-08 - val_accuracy: 0.5484\n",
            "Epoch 23/30\n",
            "1618/1618 [==============================] - 7s 4ms/step - loss: 5.9605e-08 - accuracy: 0.5100 - val_loss: 5.9605e-08 - val_accuracy: 0.5484\n",
            "Epoch 24/30\n",
            "1618/1618 [==============================] - 7s 4ms/step - loss: 5.9605e-08 - accuracy: 0.5100 - val_loss: 5.9605e-08 - val_accuracy: 0.5484\n",
            "Epoch 25/30\n",
            "1618/1618 [==============================] - 7s 4ms/step - loss: 5.9605e-08 - accuracy: 0.5100 - val_loss: 5.9605e-08 - val_accuracy: 0.5484\n",
            "Epoch 26/30\n",
            "1618/1618 [==============================] - 7s 4ms/step - loss: 5.9605e-08 - accuracy: 0.5100 - val_loss: 5.9605e-08 - val_accuracy: 0.5484\n",
            "Epoch 27/30\n",
            "1618/1618 [==============================] - 7s 4ms/step - loss: 5.9605e-08 - accuracy: 0.5100 - val_loss: 5.9605e-08 - val_accuracy: 0.5484\n",
            "Epoch 28/30\n",
            "1618/1618 [==============================] - 7s 4ms/step - loss: 5.9605e-08 - accuracy: 0.5100 - val_loss: 5.9605e-08 - val_accuracy: 0.5484\n",
            "Epoch 29/30\n",
            "1618/1618 [==============================] - 7s 4ms/step - loss: 5.9605e-08 - accuracy: 0.5100 - val_loss: 5.9605e-08 - val_accuracy: 0.5484\n",
            "Epoch 30/30\n",
            "1618/1618 [==============================] - 7s 4ms/step - loss: 5.9605e-08 - accuracy: 0.5100 - val_loss: 5.9605e-08 - val_accuracy: 0.5484\n"
          ]
        }
      ]
    },
    {
      "cell_type": "code",
      "metadata": {
        "id": "xOvcZDI4mMKw"
      },
      "source": [
        "y_pred_te = model.predict([pairs_test[:, 0], pairs_test[:, 1]])\n",
        "te_acc = compute_accuracy(labels_test, y_pred_te)"
      ],
      "execution_count": 55,
      "outputs": []
    },
    {
      "cell_type": "code",
      "metadata": {
        "colab": {
          "base_uri": "https://localhost:8080/"
        },
        "id": "1VCvFVEUmMBB",
        "outputId": "024b6ec0-30d1-4960-951a-d79cc6d7bfe2"
      },
      "source": [
        "print(\"Accuracy on test set:\", te_acc*100, \"%.\")"
      ],
      "execution_count": 56,
      "outputs": [
        {
          "output_type": "stream",
          "name": "stdout",
          "text": [
            "Accuracy on test set: 54.83441571538058 %.\n"
          ]
        }
      ]
    },
    {
      "cell_type": "code",
      "metadata": {
        "colab": {
          "base_uri": "https://localhost:8080/",
          "height": 295
        },
        "id": "CY2AcHmimptw",
        "outputId": "d89af247-10dc-489d-e40d-b2d5b1c4be35"
      },
      "source": [
        "history_dict = history.history\n",
        "loss_values = history_dict['loss']\n",
        "val_loss_values = history_dict['val_loss']\n",
        "epochs = range(1, (len(history.history['val_accuracy']) + 1))\n",
        "plt.plot(epochs, loss_values, 'y', label='Training loss')\n",
        "plt.plot(epochs, val_loss_values, 'g', label='Test loss')\n",
        "plt.title('Training and Test loss')\n",
        "plt.xlabel('Epochs')\n",
        "plt.ylabel('Loss')\n",
        "plt.legend()\n",
        "plt.show()"
      ],
      "execution_count": 57,
      "outputs": [
        {
          "output_type": "display_data",
          "data": {
            "text/plain": [
              "<Figure size 432x288 with 1 Axes>"
            ],
            "image/png": "[encoded data removed]"
          },
          "metadata": {
            "needs_background": "light"
          }
        }
      ]
    },
    {
      "cell_type": "markdown",
      "metadata": {
        "id": "NiuZWv1ZuPU0"
      },
      "source": [
        "# **Comparison of Regularized Cross Entropy, Triplet Loss and Contrastive loss functions**"
      ]
    },
    {
      "cell_type": "markdown",
      "metadata": {
        "id": "emVP7Hiovobc"
      },
      "source": [
        "*   Test Accuracy using **Contrastive loss : 74.77%**\n",
        "*   Test Accuracy using **Triplet Loss : 51.59%**\n",
        "*   Test Accuracy using **Regularized Cross Entropy : 54.83%**\n",
        "\n",
        "Hence, **Contrastive loss is the best** among all three loss functions."
      ]
    },
    {
      "cell_type": "code",
      "source": [
        ""
      ],
      "metadata": {
        "id": "sbFGqBGGNH7A"
      },
      "execution_count": null,
      "outputs": []
    }
  ]
}