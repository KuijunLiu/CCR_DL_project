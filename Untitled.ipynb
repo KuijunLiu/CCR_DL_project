{
 "cells": [
  {
   "cell_type": "code",
   "execution_count": 1,
   "id": "silent-restaurant",
   "metadata": {},
   "outputs": [
    {
     "name": "stdout",
     "output_type": "stream",
     "text": [
      "1 Physical GPUs, 1 Logical GPUs\n",
      "TF version: 2.2.0\n",
      "Hub version: 0.12.0\n",
      "WARNING:tensorflow:From /home/datou/workarea/git/Velours/python/mtr/Gan2/BigGAN-PyTorch/tfhub.py:28: is_gpu_available (from tensorflow.python.framework.test_util) is deprecated and will be removed in a future version.\n",
      "Instructions for updating:\n",
      "Use `tf.config.list_physical_devices('GPU')` instead.\n",
      "GPU is available\n"
     ]
    }
   ],
   "source": [
    "import tfhub"
   ]
  },
  {
   "cell_type": "code",
   "execution_count": null,
   "id": "binding-laugh",
   "metadata": {},
   "outputs": [
    {
     "name": "stdout",
     "output_type": "stream",
     "text": [
      "BEGINNING OF CLASSIFICATION\n",
      "model name : efficientnet_b4\n",
      "data ame : train_big\n",
      "MAKING LOG DIRECTORY:  /home/datou/workarea/git/Velours/python/mtr/Gan2/BigGAN-PyTorch/models/efficientnet_b4/logs\n",
      "Selected model: efficientnet_b4 : https://tfhub.dev/tensorflow/efficientnet/b4/feature-vector/1\n",
      "Input size (380, 380)\n",
      "Found 273974 images belonging to 3000 classes.\n",
      "Found 1101959 images belonging to 3000 classes.\n",
      "Building model with https://tfhub.dev/tensorflow/efficientnet/b4/feature-vector/1\n",
      "Model: \"sequential\"\n",
      "_________________________________________________________________\n",
      "Layer (type)                 Output Shape              Param #   \n",
      "=================================================================\n",
      "module (KerasLayer)          (None, 1792)              17673816  \n",
      "_________________________________________________________________\n",
      "dropout (Dropout)            (None, 1792)              0         \n",
      "_________________________________________________________________\n",
      "dense (Dense)                (None, 3000)              5379000   \n",
      "=================================================================\n",
      "Total params: 23,052,816\n",
      "Trainable params: 22,927,616\n",
      "Non-trainable params: 125,200\n",
      "_________________________________________________________________\n",
      "Checkpoint Will Be Saved Here:  models/efficientnet_b4\n",
      "Start training for 30 epochs\n",
      "\n",
      "Epoch 00001: LearningRateScheduler reducing learning rate to 0.009999999776482582.\n",
      "Epoch 1/30\n",
      "1000/1000 [==============================] - ETA: 0s - loss: 8.4034 - accuracy: 0.0022 - top_k_categorical_accuracy: 0.0135 - categorical_crossentropy: 7.9286\n",
      "Epoch 00001: saving model to models/efficientnet_b4/model_weights\n",
      "1000/1000 [==============================] - 760s 760ms/step - loss: 8.4034 - accuracy: 0.0022 - top_k_categorical_accuracy: 0.0135 - categorical_crossentropy: 7.9286 - val_loss: 8.1862 - val_accuracy: 0.0054 - val_top_k_categorical_accuracy: 0.0317 - val_categorical_crossentropy: 7.7117 - lr: 0.0100\n",
      "\n",
      "Epoch 00002: LearningRateScheduler reducing learning rate to 0.009677429544022901.\n",
      "Epoch 2/30\n",
      "1000/1000 [==============================] - ETA: 0s - loss: 7.9572 - accuracy: 0.0088 - top_k_categorical_accuracy: 0.0457 - categorical_crossentropy: 7.4803\n",
      "Epoch 00002: saving model to models/efficientnet_b4/model_weights\n",
      "1000/1000 [==============================] - 761s 761ms/step - loss: 7.9572 - accuracy: 0.0088 - top_k_categorical_accuracy: 0.0457 - categorical_crossentropy: 7.4803 - val_loss: 7.4457 - val_accuracy: 0.0158 - val_top_k_categorical_accuracy: 0.0925 - val_categorical_crossentropy: 6.9654 - lr: 0.0097\n",
      "\n",
      "Epoch 00003: LearningRateScheduler reducing learning rate to 0.009072609228926538.\n",
      "Epoch 3/30\n",
      "1000/1000 [==============================] - ETA: 0s - loss: 7.3830 - accuracy: 0.0226 - top_k_categorical_accuracy: 0.1159 - categorical_crossentropy: 6.8980\n",
      "Epoch 00003: saving model to models/efficientnet_b4/model_weights\n",
      "1000/1000 [==============================] - 759s 759ms/step - loss: 7.3830 - accuracy: 0.0226 - top_k_categorical_accuracy: 0.1159 - categorical_crossentropy: 6.8980 - val_loss: 6.6655 - val_accuracy: 0.0613 - val_top_k_categorical_accuracy: 0.2346 - val_categorical_crossentropy: 6.1749 - lr: 0.0091\n",
      "\n",
      "Epoch 00004: LearningRateScheduler reducing learning rate to 0.008247851579726665.\n",
      "Epoch 4/30\n",
      "1000/1000 [==============================] - ETA: 0s - loss: 6.7866 - accuracy: 0.0539 - top_k_categorical_accuracy: 0.2256 - categorical_crossentropy: 6.2901\n",
      "Epoch 00004: saving model to models/efficientnet_b4/model_weights\n",
      "1000/1000 [==============================] - 785s 785ms/step - loss: 6.7866 - accuracy: 0.0539 - top_k_categorical_accuracy: 0.2256 - categorical_crossentropy: 6.2901 - val_loss: 5.9003 - val_accuracy: 0.1096 - val_top_k_categorical_accuracy: 0.4154 - val_categorical_crossentropy: 5.3974 - lr: 0.0082\n",
      "\n",
      "Epoch 00005: LearningRateScheduler reducing learning rate to 0.007277544474424295.\n",
      "Epoch 5/30\n",
      "1000/1000 [==============================] - ETA: 0s - loss: 6.2369 - accuracy: 0.0993 - top_k_categorical_accuracy: 0.3507 - categorical_crossentropy: 5.7276\n",
      "Epoch 00005: saving model to models/efficientnet_b4/model_weights\n",
      "1000/1000 [==============================] - 858s 858ms/step - loss: 6.2369 - accuracy: 0.0993 - top_k_categorical_accuracy: 0.3507 - categorical_crossentropy: 5.7276 - val_loss: 5.1747 - val_accuracy: 0.2167 - val_top_k_categorical_accuracy: 0.5867 - val_categorical_crossentropy: 4.6586 - lr: 0.0073\n",
      "\n",
      "Epoch 00006: LearningRateScheduler reducing learning rate to 0.00623792506442973.\n",
      "Epoch 6/30\n",
      "  88/1000 [=>............................] - ETA: 19:02 - loss: 5.9158 - accuracy: 0.1435 - top_k_categorical_accuracy: 0.4375 - categorical_crossentropy: 5.3992"
     ]
    }
   ],
   "source": [
    "tfhub.train_classifier(data_name = \"train_big\", tfhub_module = \"efficientnet_b4\", batch_size = 8, num_epoch = 30, l_r = 0.01, model_name = \"efficientnet_b4\", resume=None, limit = 4500000, augmentation=True, verbose=1, remove_existing_model=False, kTop = 10)"
   ]
  },
  {
   "cell_type": "code",
   "execution_count": null,
   "id": "sticky-burner",
   "metadata": {},
   "outputs": [],
   "source": []
  }
 ],
 "metadata": {
  "kernelspec": {
   "display_name": "Python 3",
   "language": "python",
   "name": "python3"
  },
  "language_info": {
   "codemirror_mode": {
    "name": "ipython",
    "version": 3
   },
   "file_extension": ".py",
   "mimetype": "text/x-python",
   "name": "python",
   "nbconvert_exporter": "python",
   "pygments_lexer": "ipython3",
   "version": "3.8.10"
  }
 },
 "nbformat": 4,
 "nbformat_minor": 5
}
